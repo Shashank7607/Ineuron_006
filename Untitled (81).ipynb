{
 "cells": [
  {
   "cell_type": "markdown",
   "id": "9657d591-718f-437c-b962-93753d367f9b",
   "metadata": {},
   "source": [
    "1. What does an empty dictionary&#39;s code look like?"
   ]
  },
  {
   "cell_type": "code",
   "execution_count": 1,
   "id": "aaeafd24-3e3d-41f2-a885-174d026ad970",
   "metadata": {},
   "outputs": [],
   "source": [
    "# In Python, an empty dictionary is represented by a pair of curly braces {}. Here's an example:"
   ]
  },
  {
   "cell_type": "code",
   "execution_count": 2,
   "id": "19e21591-0389-47e3-b94c-57da713f2b77",
   "metadata": {},
   "outputs": [],
   "source": [
    "empty_dict = {}\n"
   ]
  },
  {
   "cell_type": "code",
   "execution_count": 3,
   "id": "c6655fa3-8a52-43d8-bb08-5e4427995286",
   "metadata": {},
   "outputs": [],
   "source": [
    "# This creates an empty dictionary named empty_dict. You can later add key-value pairs to this dictionary as needed."
   ]
  },
  {
   "cell_type": "markdown",
   "id": "6d0ffab0-ff45-4185-b961-3ca33e046553",
   "metadata": {},
   "source": [
    "2. What is the value of a dictionary value with the key &#39;foo&#39; and the value 42?"
   ]
  },
  {
   "cell_type": "code",
   "execution_count": 4,
   "id": "b0f47c88-9a6d-4852-8c1b-d8394eb5bf75",
   "metadata": {},
   "outputs": [],
   "source": [
    "# The value of a dictionary with the key 'foo' and the value 42 would look like this"
   ]
  },
  {
   "cell_type": "code",
   "execution_count": 5,
   "id": "920f980e-49e0-4439-9538-2421c6de141e",
   "metadata": {},
   "outputs": [],
   "source": [
    "my_dict = {'foo': 42}\n"
   ]
  },
  {
   "cell_type": "code",
   "execution_count": 6,
   "id": "3acf456b-8376-450d-897f-384dd576cc9f",
   "metadata": {},
   "outputs": [],
   "source": [
    "# In this example, my_dict is a dictionary with a single key-value pair where the key is 'foo' and the corresponding value is 42."
   ]
  },
  {
   "cell_type": "markdown",
   "id": "92dc3a44-640e-4a50-9d7a-aadf38538b5f",
   "metadata": {},
   "source": [
    "3. What is the most significant distinction between a dictionary and a list?"
   ]
  },
  {
   "cell_type": "code",
   "execution_count": 7,
   "id": "c55ccac1-c41b-4f95-ba3e-afbf48ad8bdf",
   "metadata": {},
   "outputs": [],
   "source": [
    "# The most significant distinction between a dictionary and a list in Python is how they store and retrieve data:\n",
    "\n",
    "# 1.Structure:\n",
    "\n",
    "# Dictionary: A dictionary is an unordered collection of key-value pairs. Each key in a dictionary must be unique, and it is associated with a specific value."
   ]
  },
  {
   "cell_type": "code",
   "execution_count": 8,
   "id": "a2068f74-db4c-4c84-b04b-3f0a2521c8d8",
   "metadata": {},
   "outputs": [],
   "source": [
    "my_dict = {'key1': 'value1', 'key2': 'value2'}\n"
   ]
  },
  {
   "cell_type": "code",
   "execution_count": 9,
   "id": "0f665eb5-4775-4464-ba2a-6c144279c491",
   "metadata": {},
   "outputs": [],
   "source": [
    "# List: A list is an ordered collection of elements. Elements in a list are accessed by their index (position in the list)."
   ]
  },
  {
   "cell_type": "code",
   "execution_count": 10,
   "id": "1d0f5fa8-4153-4bf7-9ceb-763d3f6ed8df",
   "metadata": {},
   "outputs": [],
   "source": [
    "my_list = ['element1', 'element2']"
   ]
  },
  {
   "cell_type": "code",
   "execution_count": 11,
   "id": "cd39802c-6dd8-458b-a8e4-bd45b7537059",
   "metadata": {},
   "outputs": [],
   "source": [
    "# 2.Accessing Elements:\n",
    "\n",
    "# Dictionary: Values in a dictionary are accessed by their corresponding keys."
   ]
  },
  {
   "cell_type": "code",
   "execution_count": 12,
   "id": "450b8a39-d35e-4973-b40b-b5879edc57f4",
   "metadata": {},
   "outputs": [],
   "source": [
    "value_of_key1 = my_dict['key1']"
   ]
  },
  {
   "cell_type": "code",
   "execution_count": 13,
   "id": "ddbe34d2-a6c3-49c0-a92f-e9513de45115",
   "metadata": {},
   "outputs": [],
   "source": [
    "# List: Elements in a list are accessed by their index."
   ]
  },
  {
   "cell_type": "code",
   "execution_count": 14,
   "id": "0a35e77f-7655-45b3-a14f-3be8597dd35b",
   "metadata": {},
   "outputs": [],
   "source": [
    "element_at_index0 = my_list[0]\n"
   ]
  },
  {
   "cell_type": "code",
   "execution_count": 15,
   "id": "b889761a-1eb2-4581-8c97-efbf629369f9",
   "metadata": {},
   "outputs": [],
   "source": [
    "# 3.Mutability:\n",
    "\n",
    "# Dictionary: Dictionaries are mutable, meaning you can change the values associated with keys."
   ]
  },
  {
   "cell_type": "code",
   "execution_count": 16,
   "id": "e9a425dc-db1e-4670-9a25-6dd92d0d8ac8",
   "metadata": {},
   "outputs": [],
   "source": [
    "my_dict['key1'] = 'new_value'"
   ]
  },
  {
   "cell_type": "code",
   "execution_count": 17,
   "id": "141e411c-ab0c-4b3f-b8c5-12d8b7e2e87e",
   "metadata": {},
   "outputs": [],
   "source": [
    "# List: Lists are also mutable, and you can modify elements by their index."
   ]
  },
  {
   "cell_type": "code",
   "execution_count": 19,
   "id": "097a8bad-9927-4e11-b573-b3890b9739df",
   "metadata": {},
   "outputs": [],
   "source": [
    "my_list[0] = 'new_element'"
   ]
  },
  {
   "cell_type": "code",
   "execution_count": 20,
   "id": "ea663e25-7db8-49dc-b6b1-db0657209636",
   "metadata": {},
   "outputs": [],
   "source": [
    "# 4.Uniqueness of Keys:\n",
    "\n",
    "# Dictionary: Keys in a dictionary must be unique within that dictionary.\n",
    "# List: Elements in a list can be repeated.\n",
    "# In summary, while both dictionaries and lists are used to store and organize data, dictionaries are more focused on associating values with unique keys, providing a convenient way to look up values based on specific identifiers. Lists, on the other hand, are ordered and allow access to elements based on their position in the list."
   ]
  },
  {
   "cell_type": "markdown",
   "id": "a8b15ba9-9fac-4b81-b522-fd1b5181e42b",
   "metadata": {},
   "source": [
    "4. What happens if you try to access spam[&#39;foo&#39;] if spam is {&#39;bar&#39;: 100}?"
   ]
  },
  {
   "cell_type": "code",
   "execution_count": 21,
   "id": "593ad4ef-f786-4658-b56c-ace2533ca484",
   "metadata": {},
   "outputs": [],
   "source": [
    "# If you try to access spam['foo'] and spam is { 'bar': 100 }, it will raise a KeyError because the key 'foo' does not exist in the dictionary spam. In Python, attempting to access a key that is not present in a dictionary using square brackets ([]) will result in a KeyError. Here's an example:"
   ]
  },
  {
   "cell_type": "code",
   "execution_count": 22,
   "id": "7dd033bf-6aba-46aa-86e2-81abf9b5f93a",
   "metadata": {},
   "outputs": [
    {
     "ename": "KeyError",
     "evalue": "'foo'",
     "output_type": "error",
     "traceback": [
      "\u001b[0;31m---------------------------------------------------------------------------\u001b[0m",
      "\u001b[0;31mKeyError\u001b[0m                                  Traceback (most recent call last)",
      "Cell \u001b[0;32mIn [22], line 4\u001b[0m\n\u001b[1;32m      1\u001b[0m spam \u001b[38;5;241m=\u001b[39m {\u001b[38;5;124m'\u001b[39m\u001b[38;5;124mbar\u001b[39m\u001b[38;5;124m'\u001b[39m: \u001b[38;5;241m100\u001b[39m}\n\u001b[1;32m      3\u001b[0m \u001b[38;5;66;03m# Attempting to access a non-existent key\u001b[39;00m\n\u001b[0;32m----> 4\u001b[0m value \u001b[38;5;241m=\u001b[39m \u001b[43mspam\u001b[49m\u001b[43m[\u001b[49m\u001b[38;5;124;43m'\u001b[39;49m\u001b[38;5;124;43mfoo\u001b[39;49m\u001b[38;5;124;43m'\u001b[39;49m\u001b[43m]\u001b[49m\n",
      "\u001b[0;31mKeyError\u001b[0m: 'foo'"
     ]
    }
   ],
   "source": [
    "spam = {'bar': 100}\n",
    "\n",
    "# Attempting to access a non-existent key\n",
    "value = spam['foo']  # This will raise a KeyError\n"
   ]
  },
  {
   "cell_type": "code",
   "execution_count": 23,
   "id": "6deaaf32-5e67-4d47-922a-75c110c0e609",
   "metadata": {},
   "outputs": [],
   "source": [
    "# To avoid such errors, you can either ensure that the key exists in the dictionary before attempting to access it or use the get method, which allows you to provide a default value if the key is not found:"
   ]
  },
  {
   "cell_type": "code",
   "execution_count": 24,
   "id": "3113bc95-7927-475a-81d6-04678260874c",
   "metadata": {},
   "outputs": [],
   "source": [
    "# Using get method with a default value\n",
    "value = spam.get('foo', 'default_value')\n"
   ]
  },
  {
   "cell_type": "code",
   "execution_count": 25,
   "id": "2b9423a0-a9c8-43eb-8259-73795d0c9b80",
   "metadata": {},
   "outputs": [],
   "source": [
    "# In this case, if 'foo' is not present in spam, the get method will return 'default_value' instead of raising a KeyError."
   ]
  },
  {
   "cell_type": "markdown",
   "id": "b5706f8e-c4b1-4cc4-a0c4-c23b0bcb9fd8",
   "metadata": {},
   "source": [
    "5. If a dictionary is stored in spam, what is the difference between the expressions &#39;cat&#39; in spam and\n",
    "&#39;cat&#39; in spam.keys()?"
   ]
  },
  {
   "cell_type": "code",
   "execution_count": 27,
   "id": "470e9d63-d095-49e9-a3fc-04d67c180cc1",
   "metadata": {},
   "outputs": [],
   "source": [
    "# In Python, both in and in dict.keys() can be used to check if a key is present in a dictionary, but there is a subtle difference:\n",
    "\n",
    "# 1.'cat' in spam:\n",
    "\n",
    "# This expression checks if the key 'cat' is present in the dictionary spam.\n",
    "# If 'cat' is a key in spam, regardless of its associated value, the expression will evaluate to True."
   ]
  },
  {
   "cell_type": "code",
   "execution_count": 28,
   "id": "a68e9a0c-cf0a-4b0b-9dc9-f3b61d010da3",
   "metadata": {},
   "outputs": [],
   "source": [
    "spam = {'cat': 42, 'dog': 23}\n",
    "result = 'cat' in spam  # This will be True\n"
   ]
  },
  {
   "cell_type": "code",
   "execution_count": 29,
   "id": "922b47c8-d1a9-41f9-a9eb-ef84c618bf7e",
   "metadata": {},
   "outputs": [],
   "source": [
    "# 2.'cat' in spam.keys():\n",
    "\n",
    "# This expression checks if the key 'cat' is present in the keys of the dictionary spam.\n",
    "# It is functionally equivalent to the first expression but explicitly checks against the keys.\n",
    "# Example:"
   ]
  },
  {
   "cell_type": "code",
   "execution_count": 30,
   "id": "ee43b8b2-853f-4b4f-bfe2-9fcc265c1512",
   "metadata": {},
   "outputs": [],
   "source": [
    "spam = {'cat': 42, 'dog': 23}\n",
    "result = 'cat' in spam.keys()  # This will be True\n"
   ]
  },
  {
   "cell_type": "code",
   "execution_count": 31,
   "id": "4d15b5f6-97d3-4c9e-ae8b-498a47a21f86",
   "metadata": {},
   "outputs": [],
   "source": [
    "# In general, using in dict is more concise and considered more Pythonic. The second form (in dict.keys()) is also valid but can be less efficient because it involves creating a list of keys and then searching in that list. The first form ('cat' in spam) directly checks for the existence of the key in the dictionary without creating an intermediate list of keys."
   ]
  },
  {
   "cell_type": "markdown",
   "id": "7bd62406-79f0-4ecf-b717-0c7a0315bb7a",
   "metadata": {},
   "source": [
    "6. If a dictionary is stored in spam, what is the difference between the expressions &#39;cat&#39; in spam and\n",
    "&#39;cat&#39; in spam.values()?"
   ]
  },
  {
   "cell_type": "code",
   "execution_count": 32,
   "id": "32cf07a3-cb12-402e-bb67-e3ef61450b0d",
   "metadata": {},
   "outputs": [],
   "source": [
    "# The expressions 'cat' in spam and 'cat' in spam.values() check for the presence of the string 'cat' in different parts of the dictionary spam:\n",
    "\n",
    "# 1.'cat' in spam:\n",
    "\n",
    "# This expression checks if the string 'cat' is a key in the dictionary spam.\n",
    "# If 'cat' is a key in spam, regardless of the associated values, the expression evaluates to True."
   ]
  },
  {
   "cell_type": "code",
   "execution_count": 33,
   "id": "62402614-931a-4f35-93ce-ebf27291dce3",
   "metadata": {},
   "outputs": [],
   "source": [
    "spam = {'cat': 42, 'dog': 23}\n",
    "result = 'cat' in spam  # This will be True\n"
   ]
  },
  {
   "cell_type": "code",
   "execution_count": 34,
   "id": "c1a049e0-0310-4ad8-be50-0469a86ca6fe",
   "metadata": {},
   "outputs": [],
   "source": [
    "# 2.'cat' in spam.values():\n",
    "\n",
    "# This expression checks if the string 'cat' is a value in the dictionary spam.\n",
    "# If 'cat' is one of the values in spam, the expression evaluates to True."
   ]
  },
  {
   "cell_type": "code",
   "execution_count": 35,
   "id": "210be3e3-b7d8-4a19-97de-8b073b161064",
   "metadata": {},
   "outputs": [],
   "source": [
    "spam = {'name': 'cat', 'age': 3}\n",
    "result = 'cat' in spam.values()  # This will be True\n"
   ]
  },
  {
   "cell_type": "code",
   "execution_count": 36,
   "id": "41e5003d-35e3-4762-a3be-62ce8f73b9bf",
   "metadata": {},
   "outputs": [],
   "source": [
    "# In summary, the first expression checks if 'cat' is a key, while the second expression checks if 'cat' is a value in the dictionary. They serve different purposes based on what you're trying to verify in the dictionary."
   ]
  },
  {
   "cell_type": "markdown",
   "id": "555031bc-624f-4be8-93b7-5e2c11cfdcba",
   "metadata": {},
   "source": [
    "7. What is a shortcut for the following code?\n",
    "if &#39;color&#39; not in spam:\n",
    "spam[&#39;color&#39;] = &#39;black&#39;"
   ]
  },
  {
   "cell_type": "code",
   "execution_count": 37,
   "id": "c9e171d1-9540-424b-ba6e-3dc69bc9940f",
   "metadata": {},
   "outputs": [],
   "source": [
    "# A shortcut for the given code can be achieved using the setdefault method of dictionaries. The setdefault method checks if a key is present in the dictionary, and if not, it sets the key to a default value. Here's the equivalent shortcut:"
   ]
  },
  {
   "cell_type": "code",
   "execution_count": 38,
   "id": "9fe54e18-3652-4c23-b4c3-56680091cdf7",
   "metadata": {},
   "outputs": [
    {
     "data": {
      "text/plain": [
       "'black'"
      ]
     },
     "execution_count": 38,
     "metadata": {},
     "output_type": "execute_result"
    }
   ],
   "source": [
    "spam.setdefault('color', 'black')\n"
   ]
  },
  {
   "cell_type": "code",
   "execution_count": 39,
   "id": "5ae52ddc-e0f9-4860-8e79-d84790687506",
   "metadata": {},
   "outputs": [],
   "source": [
    "# This line of code checks if the key 'color' is present in the dictionary spam. If it is present, it returns the corresponding value. If it is not present, it sets the value for the key 'color' to 'black'. This achieves the same result as the original if statement."
   ]
  },
  {
   "cell_type": "markdown",
   "id": "6a903c78-eceb-4691-852f-fbfe31b8dbef",
   "metadata": {},
   "source": [
    "8. How do you &quot;pretty print&quot; dictionary values using which module and function?"
   ]
  },
  {
   "cell_type": "code",
   "execution_count": 40,
   "id": "1a18d038-984c-476b-9db2-8ba9131fcd1b",
   "metadata": {},
   "outputs": [],
   "source": [
    "# To \"pretty print\" dictionary values in Python, you can use the pprint module from the pprint (pretty-print) standard library. The pprint module provides a pprint function that formats the output in a more human-readable way. Here's an example:"
   ]
  },
  {
   "cell_type": "code",
   "execution_count": 41,
   "id": "9aa8e417-19a8-4511-b733-02c00a0939b3",
   "metadata": {},
   "outputs": [
    {
     "name": "stdout",
     "output_type": "stream",
     "text": [
      "{'age': 30, 'city': 'New York', 'name': 'John'}\n"
     ]
    }
   ],
   "source": [
    "from pprint import pprint\n",
    "\n",
    "my_dict = {'name': 'John', 'age': 30, 'city': 'New York'}\n",
    "\n",
    "pprint(my_dict)\n"
   ]
  },
  {
   "cell_type": "code",
   "execution_count": 42,
   "id": "b1af2d02-cefd-4d3c-a929-7a740347e969",
   "metadata": {},
   "outputs": [],
   "source": [
    "# In this example, the pprint function will print the dictionary my_dict in a well-formatted and easy-to-read manner. The output will look something like this:"
   ]
  },
  {
   "cell_type": "code",
   "execution_count": 43,
   "id": "7f3ff3c9-04ae-4d1f-bc6b-8223de62df1c",
   "metadata": {},
   "outputs": [
    {
     "data": {
      "text/plain": [
       "{'age': 30, 'city': 'New York', 'name': 'John'}"
      ]
     },
     "execution_count": 43,
     "metadata": {},
     "output_type": "execute_result"
    }
   ],
   "source": [
    "{'age': 30,\n",
    " 'city': 'New York',\n",
    " 'name': 'John'}\n"
   ]
  },
  {
   "cell_type": "code",
   "execution_count": 44,
   "id": "2a5b4b83-6a2d-42c3-aae7-2ec771428967",
   "metadata": {},
   "outputs": [],
   "source": [
    "# This is particularly useful when dealing with nested or complex data structures, as it helps improve readability."
   ]
  },
  {
   "cell_type": "code",
   "execution_count": null,
   "id": "453b149c-d04c-4a8b-9477-57709f62bf1d",
   "metadata": {},
   "outputs": [],
   "source": []
  }
 ],
 "metadata": {
  "kernelspec": {
   "display_name": "Python 3 (ipykernel)",
   "language": "python",
   "name": "python3"
  },
  "language_info": {
   "codemirror_mode": {
    "name": "ipython",
    "version": 3
   },
   "file_extension": ".py",
   "mimetype": "text/x-python",
   "name": "python",
   "nbconvert_exporter": "python",
   "pygments_lexer": "ipython3",
   "version": "3.10.6"
  }
 },
 "nbformat": 4,
 "nbformat_minor": 5
}
